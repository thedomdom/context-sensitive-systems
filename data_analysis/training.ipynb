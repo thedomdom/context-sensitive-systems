{
 "cells": [
  {
   "cell_type": "code",
   "execution_count": 1,
   "metadata": {},
   "outputs": [],
   "source": [
    "%reload_ext autoreload\n",
    "%autoreload 2\n",
    "import numpy as np\n",
    "from sklearn.ensemble import RandomForestClassifier\n",
    "from sklearn.feature_selection import RFE\n",
    "from sklearn.metrics import confusion_matrix\n",
    "from sklearn.model_selection import LeaveOneGroupOut, KFold\n",
    "from sklearn.naive_bayes import GaussianNB\n",
    "from sklearn.neighbors import KNeighborsClassifier\n",
    "from sklearn.preprocessing import StandardScaler\n",
    "from sklearn.svm import SVC\n",
    "from sklearn.tree import DecisionTreeClassifier\n",
    "from sklearn_porter import Porter\n",
    "from tqdm import tqdm\n",
    "\n",
    "import data_handler"
   ]
  },
  {
   "cell_type": "code",
   "execution_count": 2,
   "metadata": {},
   "outputs": [],
   "source": [
    "measurement_frame = data_handler.from_csv()\n",
    "aggregated_frame = data_handler.aggregate(measurement_frame)\n",
    "X, y = data_handler.split_x_y(aggregated_frame)"
   ]
  },
  {
   "cell_type": "code",
   "execution_count": 3,
   "metadata": {},
   "outputs": [],
   "source": [
    "names = [\n",
    "        \"Nearest Neighbors\", # https://scikit-learn.org/stable/modules/generated/sklearn.neighbors.KNeighborsClassifier.html\n",
    "        \"RBF SVM\",\n",
    "        \"Linear SVM\", \n",
    "        \"Decision Tree\", \n",
    "        \"Random Forest\", \n",
    "        \"Naive Bayes\"\n",
    "]\n",
    "\n",
    "classifiers = [\n",
    "    KNeighborsClassifier(10),\n",
    "    SVC(kernel=\"rbf\", C=1.0, gamma=\"auto\", random_state=0),\n",
    "    SVC(kernel=\"linear\", C=1.0, random_state=0),\n",
    "    DecisionTreeClassifier(max_depth=12, random_state=0),\n",
    "    RandomForestClassifier(max_depth=5, n_estimators=10, max_features=1, random_state=0),\n",
    "    GaussianNB()\n",
    "]\n",
    "\n",
    "column_names = list(X.columns)\n",
    "X_scaled = StandardScaler().fit_transform(X)"
   ]
  },
  {
   "cell_type": "code",
   "execution_count": 4,
   "metadata": {},
   "outputs": [],
   "source": [
    "def evaluate(clfs, names, splits, X, y, silent=False):\n",
    "    scores = np.zeros((len(splits), len(classifiers)))\n",
    "    confusions = [None] * len(classifiers)\n",
    "    \n",
    "    # Iterate over every split\n",
    "    for split_idx, (train_index, test_index) in tqdm(enumerate(splits), total=len(splits), disable=silent):\n",
    "        y_train, y_test = y[train_index], y[test_index]\n",
    "        X_train, X_test = X[train_index], X[test_index]\n",
    "\n",
    "        \n",
    "        for clf_idx, (name, clf) in enumerate(zip(names, clfs)):\n",
    "            clf.fit(X_train, y_train)\n",
    "            \n",
    "            cm = confusion_matrix(y_test, clf.predict(X_test), ['Standing', 'Walking', 'Running'])\n",
    "            \n",
    "            if confusions[clf_idx] is None:\n",
    "                confusions[clf_idx] = cm\n",
    "            else:\n",
    "                confusions[clf_idx] = confusions[clf_idx] + cm\n",
    "            scores[split_idx, clf_idx] = clf.score(X_test, y_test)\n",
    "    return np.mean(scores, axis=0), np.std(scores, axis=0), confusions\n",
    "\n",
    "def printStatistics(names, mean_accuracies, std_accuracies, confusions):\n",
    "    for name, mean_accuracy, std_accuracy, confusion in zip(names, mean_accuracies, std_accuracies, confusions):\n",
    "        print(name)\n",
    "        print('Mean accuracy:', mean_accuracy)\n",
    "        print('Std accuracy:', std_accuracy)\n",
    "        print('Confusion Matrix:')\n",
    "        print(['Standing', 'Walking', 'Running'])\n",
    "        print(confusion)\n",
    "        print(\"\\n\")"
   ]
  },
  {
   "cell_type": "markdown",
   "metadata": {},
   "source": [
    "### Leave one Subject out"
   ]
  },
  {
   "cell_type": "code",
   "execution_count": 5,
   "metadata": {
    "scrolled": true
   },
   "outputs": [
    {
     "name": "stderr",
     "output_type": "stream",
     "text": [
      "100%|██████████| 10/10 [00:00<00:00, 16.60it/s]"
     ]
    },
    {
     "name": "stdout",
     "output_type": "stream",
     "text": [
      "Nearest Neighbors\n",
      "Mean accuracy: 0.9118896913363918\n",
      "Std accuracy: 0.04738953235929725\n",
      "Confusion Matrix:\n",
      "['Standing', 'Walking', 'Running']\n",
      "[[340  13   2]\n",
      " [ 19 331   1]\n",
      " [  9  49 302]]\n",
      "\n",
      "\n",
      "RBF SVM\n",
      "Mean accuracy: 0.9202036219696803\n",
      "Std accuracy: 0.03901108973190615\n",
      "Confusion Matrix:\n",
      "['Standing', 'Walking', 'Running']\n",
      "[[337  15   3]\n",
      " [ 18 329   4]\n",
      " [  6  38 316]]\n",
      "\n",
      "\n",
      "Linear SVM\n",
      "Mean accuracy: 0.9351752888046345\n",
      "Std accuracy: 0.0365536404501705\n",
      "Confusion Matrix:\n",
      "['Standing', 'Walking', 'Running']\n",
      "[[334  16   5]\n",
      " [ 16 328   7]\n",
      " [  6  18 336]]\n",
      "\n",
      "\n",
      "Decision Tree\n",
      "Mean accuracy: 0.8871934460248404\n",
      "Std accuracy: 0.06138194667906884\n",
      "Confusion Matrix:\n",
      "['Standing', 'Walking', 'Running']\n",
      "[[295  25  35]\n",
      " [ 10 324  17]\n",
      " [ 10  22 328]]\n",
      "\n",
      "\n",
      "Random Forest\n",
      "Mean accuracy: 0.9220785345251375\n",
      "Std accuracy: 0.03331148726180644\n",
      "Confusion Matrix:\n",
      "['Standing', 'Walking', 'Running']\n",
      "[[319  28   8]\n",
      " [ 11 333   7]\n",
      " [  5  23 332]]\n",
      "\n",
      "\n",
      "Naive Bayes\n",
      "Mean accuracy: 0.9362715765428877\n",
      "Std accuracy: 0.038934611833233886\n",
      "Confusion Matrix:\n",
      "['Standing', 'Walking', 'Running']\n",
      "[[336  12   7]\n",
      " [ 12 327  12]\n",
      " [  6  19 335]]\n",
      "\n",
      "\n"
     ]
    },
    {
     "name": "stderr",
     "output_type": "stream",
     "text": [
      "\n"
     ]
    }
   ],
   "source": [
    "# Cerate 10 splits (each containing one subject of each class)\n",
    "aggregated_frame[\"subject\"] = aggregated_frame[\"subject\"].str.replace(r\"[a-zA-Z]\",'')\n",
    "splits = list(LeaveOneGroupOut().split(X, y, groups=aggregated_frame[\"subject\"]))\n",
    "\n",
    "mean_accuracies, std_accuracies, confusions = evaluate(classifiers, names, splits, X_scaled, y, silent=False)\n",
    "printStatistics(names, mean_accuracies, std_accuracies, confusions)"
   ]
  },
  {
   "cell_type": "markdown",
   "metadata": {},
   "source": [
    "### 10-Fold Cross-Validation"
   ]
  },
  {
   "cell_type": "code",
   "execution_count": 6,
   "metadata": {
    "scrolled": true
   },
   "outputs": [
    {
     "name": "stderr",
     "output_type": "stream",
     "text": [
      "100%|██████████| 10/10 [00:00<00:00, 17.10it/s]"
     ]
    },
    {
     "name": "stdout",
     "output_type": "stream",
     "text": [
      "Nearest Neighbors\n",
      "Mean accuracy: 0.92119555633927\n",
      "Std accuracy: 0.01884289131819344\n",
      "Confusion Matrix:\n",
      "['Standing', 'Walking', 'Running']\n",
      "[[345   8   2]\n",
      " [ 16 334   1]\n",
      " [  9  48 303]]\n",
      "\n",
      "\n",
      "RBF SVM\n",
      "Mean accuracy: 0.92778169634985\n",
      "Std accuracy: 0.024111727130497147\n",
      "Confusion Matrix:\n",
      "['Standing', 'Walking', 'Running']\n",
      "[[343   9   3]\n",
      " [ 19 329   3]\n",
      " [  6  37 317]]\n",
      "\n",
      "\n",
      "Linear SVM\n",
      "Mean accuracy: 0.9418092047257979\n",
      "Std accuracy: 0.011861773979081029\n",
      "Confusion Matrix:\n",
      "['Standing', 'Walking', 'Running']\n",
      "[[339  13   3]\n",
      " [ 16 329   6]\n",
      " [  6  18 336]]\n",
      "\n",
      "\n",
      "Decision Tree\n",
      "Mean accuracy: 0.9230999823664258\n",
      "Std accuracy: 0.019500724212332263\n",
      "Confusion Matrix:\n",
      "['Standing', 'Walking', 'Running']\n",
      "[[332  15   8]\n",
      " [ 12 319  20]\n",
      " [  7  20 333]]\n",
      "\n",
      "\n",
      "Random Forest\n",
      "Mean accuracy: 0.9277552459883619\n",
      "Std accuracy: 0.022323164897578462\n",
      "Confusion Matrix:\n",
      "['Standing', 'Walking', 'Running']\n",
      "[[327  23   5]\n",
      " [ 13 330   8]\n",
      " [  4  24 332]]\n",
      "\n",
      "\n",
      "Naive Bayes\n",
      "Mean accuracy: 0.9455739728442953\n",
      "Std accuracy: 0.02093458991066978\n",
      "Confusion Matrix:\n",
      "['Standing', 'Walking', 'Running']\n",
      "[[340   9   6]\n",
      " [ 11 334   6]\n",
      " [  8  18 334]]\n",
      "\n",
      "\n"
     ]
    },
    {
     "name": "stderr",
     "output_type": "stream",
     "text": [
      "\n"
     ]
    }
   ],
   "source": [
    "splits = list(KFold(n_splits=10, shuffle=True).split(X, y))\n",
    "\n",
    "mean_accuracies, std_accuracies, confusions = evaluate(classifiers, names, splits, X_scaled, y, silent=False)\n",
    "printStatistics(names, mean_accuracies, std_accuracies, confusions)"
   ]
  },
  {
   "cell_type": "markdown",
   "metadata": {},
   "source": [
    "### Recursive Feature Elimination"
   ]
  },
  {
   "cell_type": "code",
   "execution_count": 7,
   "metadata": {},
   "outputs": [
    {
     "data": {
      "text/plain": [
       "[(True, 'alpha_min'),\n",
       " (True, 'alpha_max'),\n",
       " (True, 'alpha_median'),\n",
       " (True, 'alpha_std'),\n",
       " (False, 'beta_min'),\n",
       " (True, 'beta_max'),\n",
       " (True, 'beta_median'),\n",
       " (True, 'beta_std'),\n",
       " (True, 'gamma_min'),\n",
       " (True, 'gamma_max'),\n",
       " (False, 'gamma_median'),\n",
       " (True, 'gamma_std')]"
      ]
     },
     "execution_count": 7,
     "metadata": {},
     "output_type": "execute_result"
    }
   ],
   "source": [
    "clf = RandomForestClassifier(max_depth=5, n_estimators=10, max_features=1, random_state=0)\n",
    "rfe = RFE(clf,10,step=1)\n",
    "rfe.fit(X, y)\n",
    "columns = list(zip(rfe.support_, column_names))\n",
    "columns"
   ]
  },
  {
   "cell_type": "markdown",
   "metadata": {},
   "source": [
    "### Training with Eliminated Features"
   ]
  },
  {
   "cell_type": "code",
   "execution_count": 8,
   "metadata": {},
   "outputs": [],
   "source": [
    "X_new = X.drop([\"beta_min\", \"gamma_median\"], axis=1)\n",
    "X_new_scaled = StandardScaler().fit_transform(X_new)"
   ]
  },
  {
   "cell_type": "code",
   "execution_count": 9,
   "metadata": {
    "scrolled": true
   },
   "outputs": [
    {
     "name": "stderr",
     "output_type": "stream",
     "text": [
      "100%|██████████| 10/10 [00:00<00:00, 19.18it/s]"
     ]
    },
    {
     "name": "stdout",
     "output_type": "stream",
     "text": [
      "Nearest Neighbors\n",
      "Mean accuracy: 0.9212112652423909\n",
      "Std accuracy: 0.04304242670298699\n",
      "Confusion Matrix:\n",
      "['Standing', 'Walking', 'Running']\n",
      "[[343  11   1]\n",
      " [ 14 334   3]\n",
      " [  8  46 306]]\n",
      "\n",
      "\n",
      "RBF SVM\n",
      "Mean accuracy: 0.9251707692362826\n",
      "Std accuracy: 0.03628190250479269\n",
      "Confusion Matrix:\n",
      "['Standing', 'Walking', 'Running']\n",
      "[[340  13   2]\n",
      " [ 18 329   4]\n",
      " [  6  36 318]]\n",
      "\n",
      "\n",
      "Linear SVM\n",
      "Mean accuracy: 0.9322663853039156\n",
      "Std accuracy: 0.038074105344245185\n",
      "Confusion Matrix:\n",
      "['Standing', 'Walking', 'Running']\n",
      "[[333  17   5]\n",
      " [ 17 327   7]\n",
      " [  5  20 335]]\n",
      "\n",
      "\n",
      "Decision Tree\n",
      "Mean accuracy: 0.893501976325871\n",
      "Std accuracy: 0.05781769434430133\n",
      "Confusion Matrix:\n",
      "['Standing', 'Walking', 'Running']\n",
      "[[302  35  18]\n",
      " [ 10 322  19]\n",
      " [ 13  18 329]]\n",
      "\n",
      "\n",
      "Random Forest\n",
      "Mean accuracy: 0.9154766511495869\n",
      "Std accuracy: 0.03434040664645536\n",
      "Confusion Matrix:\n",
      "['Standing', 'Walking', 'Running']\n",
      "[[331  17   7]\n",
      " [ 33 311   7]\n",
      " [  7  18 335]]\n",
      "\n",
      "\n",
      "Naive Bayes\n",
      "Mean accuracy: 0.9426757933783831\n",
      "Std accuracy: 0.029765609850852328\n",
      "Confusion Matrix:\n",
      "['Standing', 'Walking', 'Running']\n",
      "[[337  11   7]\n",
      " [ 12 332   7]\n",
      " [  5  19 336]]\n",
      "\n",
      "\n"
     ]
    },
    {
     "name": "stderr",
     "output_type": "stream",
     "text": [
      "\n"
     ]
    }
   ],
   "source": [
    "# Cerate 10 splits (each containing one subject of each class)\n",
    "aggregated_frame[\"subject\"] = aggregated_frame[\"subject\"].str.replace(r\"[a-zA-Z]\",'')\n",
    "splits = list(LeaveOneGroupOut().split(X, y, groups=aggregated_frame[\"subject\"]))\n",
    "\n",
    "mean_accuracies, std_accuracies, confusions = evaluate(classifiers, names, splits, X_new_scaled, y, silent=False)\n",
    "printStatistics(names, mean_accuracies, std_accuracies, confusions)"
   ]
  },
  {
   "cell_type": "markdown",
   "metadata": {},
   "source": [
    "### Using Porter to convert Model"
   ]
  },
  {
   "cell_type": "code",
   "execution_count": 10,
   "metadata": {},
   "outputs": [],
   "source": [
    "best_clf = GaussianNB()\n",
    "best_clf.fit(X, y)\n",
    "porter = Porter(best_clf, language='js')\n",
    "export = porter.export(embed_data=True)\n",
    "f = open(\"naive_bayes_clf.js\", \"w\")\n",
    "f.write(export)\n",
    "f.close()"
   ]
  }
 ],
 "metadata": {
  "kernelspec": {
   "display_name": "Python 3",
   "language": "python",
   "name": "python3"
  },
  "language_info": {
   "codemirror_mode": {
    "name": "ipython",
    "version": 3
   },
   "file_extension": ".py",
   "mimetype": "text/x-python",
   "name": "python",
   "nbconvert_exporter": "python",
   "pygments_lexer": "ipython3",
   "version": "3.7.3"
  },
  "pycharm": {
   "stem_cell": {
    "cell_type": "raw",
    "metadata": {
     "collapsed": false
    },
    "source": []
   }
  }
 },
 "nbformat": 4,
 "nbformat_minor": 2
}
