{
 "cells": [
  {
   "cell_type": "code",
   "execution_count": 17,
   "metadata": {},
   "outputs": [],
   "source": [
    "%reload_ext autoreload\n",
    "%autoreload 2\n",
    "import importlib\n",
    "import data_handler\n",
    "\n",
    "import numpy as np\n",
    "\n",
    "from tqdm import tqdm\n",
    "\n",
    "from sklearn.model_selection import LeaveOneGroupOut, KFold\n",
    "\n",
    "from sklearn.preprocessing import StandardScaler\n",
    "from sklearn.utils import shuffle\n",
    "from sklearn.metrics import confusion_matrix\n",
    "\n",
    "from sklearn.pipeline import Pipeline\n",
    "from sklearn.feature_selection import RFE\n",
    "\n",
    "from sklearn.neural_network import MLPClassifier\n",
    "from sklearn.neighbors import KNeighborsClassifier\n",
    "from sklearn.svm import SVC\n",
    "from sklearn.gaussian_process import GaussianProcessClassifier\n",
    "from sklearn.gaussian_process.kernels import RBF\n",
    "from sklearn.tree import DecisionTreeClassifier\n",
    "from sklearn.ensemble import RandomForestClassifier, AdaBoostClassifier\n",
    "from sklearn.naive_bayes import GaussianNB\n",
    "\n",
    "from sklearn_porter import Porter\n",
    "\n",
    "from pandas import DataFrame"
   ]
  },
  {
   "cell_type": "code",
   "execution_count": 2,
   "metadata": {},
   "outputs": [],
   "source": [
    "measurement_frame = data_handler.from_csv()\n",
    "aggregated_frame = data_handler.aggregate(measurement_frame)\n",
    "X, y = data_handler.split_x_y(aggregated_frame)"
   ]
  },
  {
   "cell_type": "code",
   "execution_count": 73,
   "metadata": {},
   "outputs": [],
   "source": [
    "names = [\n",
    "        \"Nearest Neighbors\", # https://scikit-learn.org/stable/modules/generated/sklearn.neighbors.KNeighborsClassifier.html\n",
    "        \"RBF SVM\",\n",
    "        \"Linear SVM\", \n",
    "        \"Decision Tree\", \n",
    "        \"Random Forest\", \n",
    "        \"Naive Bayes\"\n",
    "]\n",
    "\n",
    "classifiers = [\n",
    "    KNeighborsClassifier(10),\n",
    "    SVC(kernel=\"rbf\", C=1.0, gamma=\"auto\", random_state=0),\n",
    "    SVC(kernel=\"linear\", C=1.0, random_state=0),\n",
    "    DecisionTreeClassifier(max_depth=12, random_state=0),\n",
    "    RandomForestClassifier(max_depth=5, n_estimators=10, max_features=1, random_state=0),\n",
    "    GaussianNB()\n",
    "]\n",
    "\n",
    "column_names = list(X.columns)\n",
    "X_scaled = StandardScaler().fit_transform(X)"
   ]
  },
  {
   "cell_type": "code",
   "execution_count": 74,
   "metadata": {},
   "outputs": [],
   "source": [
    "def evaluate(clfs, names, splits, X, y, silent=False):\n",
    "    scores = np.zeros((len(splits), len(classifiers)))\n",
    "    confusions = [None] * len(classifiers)\n",
    "    \n",
    "    # Iterate over every split\n",
    "    for split_idx, (train_index, test_index) in tqdm(enumerate(splits), total=len(splits), disable=silent):\n",
    "        y_train, y_test = y[train_index], y[test_index]\n",
    "        X_train, X_test = X[train_index], X[test_index]\n",
    "\n",
    "        \n",
    "        for clf_idx, (name, clf) in enumerate(zip(names, clfs)):\n",
    "            clf.fit(X_train, y_train)\n",
    "            \n",
    "            cm = confusion_matrix(y_test, clf.predict(X_test), ['Standing', 'Walking', 'Running'])\n",
    "            \n",
    "            if confusions[clf_idx] is None:\n",
    "                confusions[clf_idx] = cm\n",
    "            else:\n",
    "                confusions[clf_idx] = confusions[clf_idx] + cm\n",
    "            scores[split_idx, clf_idx] = clf.score(X_test, y_test)\n",
    "    return np.mean(scores, axis=0), np.std(scores, axis=0), confusions\n",
    "\n",
    "def printStatistics(names, mean_accuracies, std_accuracies, confusions):\n",
    "    for name, mean_accuracy, std_accuracy, confusion in zip(names, mean_accuracies, std_accuracies, confusions):\n",
    "        print(name)\n",
    "        print('Mean accuracy:', mean_accuracy)\n",
    "        print('Std accuracy:', std_accuracy)\n",
    "        print('Confusion Matrix:')\n",
    "        print(['Standing', 'Walking', 'Running'])\n",
    "        print(confusion)\n",
    "        print(\"\\n\")"
   ]
  },
  {
   "cell_type": "markdown",
   "metadata": {},
   "source": [
    "### Leave one Subject out"
   ]
  },
  {
   "cell_type": "code",
   "execution_count": 75,
   "metadata": {
    "scrolled": true
   },
   "outputs": [
    {
     "name": "stderr",
     "output_type": "stream",
     "text": [
      "\n",
      "  0%|          | 0/10 [00:00<?, ?it/s]\u001b[A\n",
      " 20%|██        | 2/10 [00:00<00:00, 19.02it/s]\u001b[A\n",
      " 50%|█████     | 5/10 [00:00<00:00, 19.61it/s]\u001b[A\n",
      " 80%|████████  | 8/10 [00:00<00:00, 20.14it/s]\u001b[A\n",
      "100%|██████████| 10/10 [00:00<00:00, 20.69it/s]\u001b[A"
     ]
    },
    {
     "name": "stdout",
     "output_type": "stream",
     "text": [
      "Nearest Neighbors\n",
      "Mean accuracy: 0.9118896913363918\n",
      "Std accuracy: 0.04738953235929725\n",
      "Confusion Matrix:\n",
      "['Standing', 'Walking', 'Running']\n",
      "[[340  13   2]\n",
      " [ 19 331   1]\n",
      " [  9  49 302]]\n",
      "\n",
      "\n",
      "RBF SVM\n",
      "Mean accuracy: 0.9202036219696803\n",
      "Std accuracy: 0.03901108973190615\n",
      "Confusion Matrix:\n",
      "['Standing', 'Walking', 'Running']\n",
      "[[337  15   3]\n",
      " [ 18 329   4]\n",
      " [  6  38 316]]\n",
      "\n",
      "\n",
      "Linear SVM\n",
      "Mean accuracy: 0.9351752888046345\n",
      "Std accuracy: 0.0365536404501705\n",
      "Confusion Matrix:\n",
      "['Standing', 'Walking', 'Running']\n",
      "[[334  16   5]\n",
      " [ 16 328   7]\n",
      " [  6  18 336]]\n",
      "\n",
      "\n",
      "Decision Tree\n",
      "Mean accuracy: 0.8871934460248404\n",
      "Std accuracy: 0.06138194667906884\n",
      "Confusion Matrix:\n",
      "['Standing', 'Walking', 'Running']\n",
      "[[295  25  35]\n",
      " [ 10 324  17]\n",
      " [ 10  22 328]]\n",
      "\n",
      "\n",
      "Random Forest\n",
      "Mean accuracy: 0.9220785345251375\n",
      "Std accuracy: 0.03331148726180644\n",
      "Confusion Matrix:\n",
      "['Standing', 'Walking', 'Running']\n",
      "[[319  28   8]\n",
      " [ 11 333   7]\n",
      " [  5  23 332]]\n",
      "\n",
      "\n",
      "Naive Bayes\n",
      "Mean accuracy: 0.9362715765428877\n",
      "Std accuracy: 0.038934611833233886\n",
      "Confusion Matrix:\n",
      "['Standing', 'Walking', 'Running']\n",
      "[[336  12   7]\n",
      " [ 12 327  12]\n",
      " [  6  19 335]]\n",
      "\n",
      "\n"
     ]
    }
   ],
   "source": [
    "# Cerate 10 splits (each containing one subject of each class)\n",
    "aggregated_frame[\"subject\"] = aggregated_frame[\"subject\"].str.replace(r\"[a-zA-Z]\",'')\n",
    "splits = list(LeaveOneGroupOut().split(X, y, groups=aggregated_frame[\"subject\"]))\n",
    "\n",
    "mean_accuracies, std_accuracies, confusions = evaluate(classifiers, names, splits, X_scaled, y, silent=False)\n",
    "printStatistics(names, mean_accuracies, std_accuracies, confusions)"
   ]
  },
  {
   "cell_type": "markdown",
   "metadata": {},
   "source": [
    "### 10-Fold Cross-Validation"
   ]
  },
  {
   "cell_type": "code",
   "execution_count": 76,
   "metadata": {
    "scrolled": true
   },
   "outputs": [
    {
     "name": "stderr",
     "output_type": "stream",
     "text": [
      "\n",
      "  0%|          | 0/10 [00:00<?, ?it/s]\u001b[A\n",
      " 20%|██        | 2/10 [00:00<00:00, 18.83it/s]\u001b[A\n",
      " 50%|█████     | 5/10 [00:00<00:00, 19.42it/s]\u001b[A\n",
      " 80%|████████  | 8/10 [00:00<00:00, 20.04it/s]\u001b[A\n",
      "100%|██████████| 10/10 [00:00<00:00, 20.75it/s]\u001b[A"
     ]
    },
    {
     "name": "stdout",
     "output_type": "stream",
     "text": [
      "Nearest Neighbors\n",
      "Mean accuracy: 0.9202786104743431\n",
      "Std accuracy: 0.013964232255853207\n",
      "Confusion Matrix:\n",
      "['Standing', 'Walking', 'Running']\n",
      "[[345   8   2]\n",
      " [ 15 334   2]\n",
      " [ 10  48 302]]\n",
      "\n",
      "\n",
      "RBF SVM\n",
      "Mean accuracy: 0.929606771292541\n",
      "Std accuracy: 0.01994731408372947\n",
      "Confusion Matrix:\n",
      "['Standing', 'Walking', 'Running']\n",
      "[[341  11   3]\n",
      " [ 17 331   3]\n",
      " [  6  35 319]]\n",
      "\n",
      "\n",
      "Linear SVM\n",
      "Mean accuracy: 0.9380444366073004\n",
      "Std accuracy: 0.022035585392279712\n",
      "Confusion Matrix:\n",
      "['Standing', 'Walking', 'Running']\n",
      "[[338  14   3]\n",
      " [ 18 327   6]\n",
      " [  6  19 335]]\n",
      "\n",
      "\n",
      "Decision Tree\n",
      "Mean accuracy: 0.9248986069476283\n",
      "Std accuracy: 0.027350543506139614\n",
      "Confusion Matrix:\n",
      "['Standing', 'Walking', 'Running']\n",
      "[[329  18   8]\n",
      " [ 15 321  15]\n",
      " [  9  15 336]]\n",
      "\n",
      "\n",
      "Random Forest\n",
      "Mean accuracy: 0.9267942161876214\n",
      "Std accuracy: 0.020619072372818174\n",
      "Confusion Matrix:\n",
      "['Standing', 'Walking', 'Running']\n",
      "[[331  19   5]\n",
      " [ 19 326   6]\n",
      " [  5  24 331]]\n",
      "\n",
      "\n",
      "Naive Bayes\n",
      "Mean accuracy: 0.944648210192206\n",
      "Std accuracy: 0.019043803099327884\n",
      "Confusion Matrix:\n",
      "['Standing', 'Walking', 'Running']\n",
      "[[339  10   6]\n",
      " [ 11 334   6]\n",
      " [  7  19 334]]\n",
      "\n",
      "\n"
     ]
    }
   ],
   "source": [
    "splits = list(KFold(n_splits=10, shuffle=True).split(X, y))\n",
    "\n",
    "mean_accuracies, std_accuracies, confusions = evaluate(classifiers, names, splits, X_scaled, y, silent=False)\n",
    "printStatistics(names, mean_accuracies, std_accuracies, confusions)"
   ]
  },
  {
   "cell_type": "markdown",
   "metadata": {},
   "source": [
    "### Recursive Feature Elimination"
   ]
  },
  {
   "cell_type": "code",
   "execution_count": 89,
   "metadata": {},
   "outputs": [
    {
     "data": {
      "text/plain": [
       "[(True, 'alpha_min'),\n",
       " (True, 'alpha_max'),\n",
       " (True, 'alpha_median'),\n",
       " (True, 'alpha_std'),\n",
       " (False, 'beta_min'),\n",
       " (True, 'beta_max'),\n",
       " (True, 'beta_median'),\n",
       " (True, 'beta_std'),\n",
       " (True, 'gamma_min'),\n",
       " (True, 'gamma_max'),\n",
       " (False, 'gamma_median'),\n",
       " (True, 'gamma_std')]"
      ]
     },
     "execution_count": 89,
     "metadata": {},
     "output_type": "execute_result"
    }
   ],
   "source": [
    "clf = RandomForestClassifier(max_depth=5, n_estimators=10, max_features=1, random_state=0)\n",
    "rfe = RFE(clf,10,step=1)\n",
    "rfe.fit(X, y)\n",
    "columns = list(zip(rfe.support_, column_names))\n",
    "columns"
   ]
  },
  {
   "cell_type": "markdown",
   "metadata": {},
   "source": [
    "### Training with Eliminated Features"
   ]
  },
  {
   "cell_type": "code",
   "execution_count": 90,
   "metadata": {},
   "outputs": [],
   "source": [
    "X_new = X.drop([\"beta_min\", \"gamma_median\"], axis=1)\n",
    "X_new_scaled = StandardScaler().fit_transform(X_new)"
   ]
  },
  {
   "cell_type": "code",
   "execution_count": 91,
   "metadata": {
    "scrolled": true
   },
   "outputs": [
    {
     "name": "stderr",
     "output_type": "stream",
     "text": [
      "\n",
      "  0%|          | 0/10 [00:00<?, ?it/s]\u001b[A\n",
      " 30%|███       | 3/10 [00:00<00:00, 21.60it/s]\u001b[A\n",
      " 60%|██████    | 6/10 [00:00<00:00, 21.90it/s]\u001b[A\n",
      " 90%|█████████ | 9/10 [00:00<00:00, 22.21it/s]\u001b[A\n",
      "100%|██████████| 10/10 [00:00<00:00, 22.32it/s]\u001b[A"
     ]
    },
    {
     "name": "stdout",
     "output_type": "stream",
     "text": [
      "Nearest Neighbors\n",
      "Mean accuracy: 0.9212112652423909\n",
      "Std accuracy: 0.04304242670298699\n",
      "Confusion Matrix:\n",
      "['Standing', 'Walking', 'Running']\n",
      "[[343  11   1]\n",
      " [ 14 334   3]\n",
      " [  8  46 306]]\n",
      "\n",
      "\n",
      "RBF SVM\n",
      "Mean accuracy: 0.9251707692362826\n",
      "Std accuracy: 0.03628190250479269\n",
      "Confusion Matrix:\n",
      "['Standing', 'Walking', 'Running']\n",
      "[[340  13   2]\n",
      " [ 18 329   4]\n",
      " [  6  36 318]]\n",
      "\n",
      "\n",
      "Linear SVM\n",
      "Mean accuracy: 0.9322663853039156\n",
      "Std accuracy: 0.038074105344245185\n",
      "Confusion Matrix:\n",
      "['Standing', 'Walking', 'Running']\n",
      "[[333  17   5]\n",
      " [ 17 327   7]\n",
      " [  5  20 335]]\n",
      "\n",
      "\n",
      "Decision Tree\n",
      "Mean accuracy: 0.893501976325871\n",
      "Std accuracy: 0.05781769434430133\n",
      "Confusion Matrix:\n",
      "['Standing', 'Walking', 'Running']\n",
      "[[302  35  18]\n",
      " [ 10 322  19]\n",
      " [ 13  18 329]]\n",
      "\n",
      "\n",
      "Random Forest\n",
      "Mean accuracy: 0.9154766511495869\n",
      "Std accuracy: 0.03434040664645536\n",
      "Confusion Matrix:\n",
      "['Standing', 'Walking', 'Running']\n",
      "[[331  17   7]\n",
      " [ 33 311   7]\n",
      " [  7  18 335]]\n",
      "\n",
      "\n",
      "Naive Bayes\n",
      "Mean accuracy: 0.9426757933783831\n",
      "Std accuracy: 0.029765609850852328\n",
      "Confusion Matrix:\n",
      "['Standing', 'Walking', 'Running']\n",
      "[[337  11   7]\n",
      " [ 12 332   7]\n",
      " [  5  19 336]]\n",
      "\n",
      "\n"
     ]
    }
   ],
   "source": [
    "# Cerate 10 splits (each containing one subject of each class)\n",
    "aggregated_frame[\"subject\"] = aggregated_frame[\"subject\"].str.replace(r\"[a-zA-Z]\",'')\n",
    "splits = list(LeaveOneGroupOut().split(X, y, groups=aggregated_frame[\"subject\"]))\n",
    "\n",
    "mean_accuracies, std_accuracies, confusions = evaluate(classifiers, names, splits, X_new_scaled, y, silent=False)\n",
    "printStatistics(names, mean_accuracies, std_accuracies, confusions)"
   ]
  },
  {
   "cell_type": "markdown",
   "metadata": {},
   "source": [
    "### Using Porter to convert Model"
   ]
  },
  {
   "cell_type": "code",
   "execution_count": 97,
   "metadata": {},
   "outputs": [],
   "source": [
    "best_clf = GaussianNB()\n",
    "best_clf.fit(X, y)\n",
    "porter = Porter(best_clf, language='js')\n",
    "export = porter.export(embed_data=True)\n",
    "f = open(\"naive_bayes_clf.js\", \"w\")\n",
    "f.write(export)\n",
    "f.close()"
   ]
  }
 ],
 "metadata": {
  "kernelspec": {
   "display_name": "Python 3",
   "language": "python",
   "name": "python3"
  },
  "language_info": {
   "codemirror_mode": {
    "name": "ipython",
    "version": 3
   },
   "file_extension": ".py",
   "mimetype": "text/x-python",
   "name": "python",
   "nbconvert_exporter": "python",
   "pygments_lexer": "ipython3",
   "version": "3.7.3"
  }
 },
 "nbformat": 4,
 "nbformat_minor": 2
}
